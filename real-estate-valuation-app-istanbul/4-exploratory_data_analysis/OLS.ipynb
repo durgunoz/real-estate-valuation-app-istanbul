{
 "cells": [
  {
   "cell_type": "code",
   "execution_count": 6,
   "id": "1fec11f3-cf18-429d-8764-b32d2e024894",
   "metadata": {},
   "outputs": [],
   "source": [
    "import pandas as pd\n",
    "import numpy as np\n",
    "import matplotlib.pyplot as plt\n",
    "\n",
    "# veride okunamayan karakterleri okutmak için encoding\n",
    "df = pd.read_csv(r\"C:\\Users\\ASUS\\Desktop\\Bitirme\\2-encoding_analysis\\encoded_data.csv\") \n",
    "\n",
    "df.head(4)\n",
    "\n",
    "x = df.drop(columns=\"price\")\n",
    "y = df[\"price\"]"
   ]
  },
  {
   "cell_type": "code",
   "execution_count": 7,
   "id": "a9addd08-f4c2-4dee-b84f-338ca699542d",
   "metadata": {},
   "outputs": [
    {
     "name": "stdout",
     "output_type": "stream",
     "text": [
      "                            OLS Regression Results                            \n",
      "==============================================================================\n",
      "Dep. Variable:                  price   R-squared:                       0.718\n",
      "Model:                            OLS   Adj. R-squared:                  0.718\n",
      "Method:                 Least Squares   F-statistic:                     7180.\n",
      "Date:                Sun, 18 May 2025   Prob (F-statistic):               0.00\n",
      "Time:                        22:00:02   Log-Likelihood:            -2.8274e+05\n",
      "No. Observations:               16917   AIC:                         5.655e+05\n",
      "Df Residuals:                   16910   BIC:                         5.656e+05\n",
      "Df Model:                           6                                         \n",
      "Covariance Type:            nonrobust                                         \n",
      "==============================================================================\n",
      "                 coef    std err          t      P>|t|      [0.025      0.975]\n",
      "------------------------------------------------------------------------------\n",
      "const      -6.822e+06   1.12e+05    -61.008      0.000   -7.04e+06    -6.6e+06\n",
      "x1          6.435e+04    835.089     77.052      0.000    6.27e+04     6.6e+04\n",
      "x2         -5.314e+04   2339.945    -22.708      0.000   -5.77e+04   -4.85e+04\n",
      "x3          1.002e+05   9199.402     10.888      0.000    8.21e+04    1.18e+05\n",
      "x4         -9.727e+04      2e+04     -4.871      0.000   -1.36e+05   -5.81e+04\n",
      "x5             0.2327      0.011     21.937      0.000       0.212       0.253\n",
      "x6             0.7217      0.009     81.706      0.000       0.704       0.739\n",
      "==============================================================================\n",
      "Omnibus:                     7497.035   Durbin-Watson:                   1.992\n",
      "Prob(Omnibus):                  0.000   Jarque-Bera (JB):            93203.348\n",
      "Skew:                           1.796   Prob(JB):                         0.00\n",
      "Kurtosis:                      13.924   Cond. No.                     4.76e+07\n",
      "==============================================================================\n",
      "\n",
      "Notes:\n",
      "[1] Standard Errors assume that the covariance matrix of the errors is correctly specified.\n",
      "[2] The condition number is large, 4.76e+07. This might indicate that there are\n",
      "strong multicollinearity or other numerical problems.\n"
     ]
    }
   ],
   "source": [
    "import statsmodels.api as sm\n",
    "\n",
    "# Otomatik sabit sütunu (bias) ekle\n",
    "X = np.append(arr=np.ones((x.shape[0], 1)).astype(int), values=x.values, axis=1)\n",
    "\n",
    "# Başlangıçta tüm değişkenleri içeren bir model kur\n",
    "X_opt = X[:, list(range(X.shape[1]))]  # Tüm sütunlar\n",
    "\n",
    "# OLS modelini oluştur ve uygula\n",
    "model = sm.OLS(y, X_opt).fit()\n",
    "\n",
    "# Sonuç özeti\n",
    "print(model.summary())"
   ]
  },
  {
   "cell_type": "markdown",
   "id": "fc6a04ae-8eb2-468f-9369-4a98d221c6a9",
   "metadata": {},
   "source": [
    "#### R-squared: 0.718 | Adj. R-squared: 0.718\n",
    "Bu değerler modelin bağımlı değişken olan price'ı ne kadar açıkladığını gösterir.\n",
    "\n",
    "%71.8'lik bir açıklama gücü oldukça güçlüdür. Demek ki model, fiyatı belirleyen değişkenleri oldukça iyi temsil ediyor.\n",
    "\n",
    "#### Modelin Anlamlılığı\n",
    "F-statistic: 7180 | Prob (F-statistic): 0.00\n",
    "F istatistiği, modeldeki tüm değişkenlerin toplamda anlamlı bir katkı sağlayıp sağlamadığını test eder.\n",
    "\n",
    "Prob(F-statistic) = 0.00 → Model genel olarak istatistiksel olarak anlamlı.\n",
    "\n",
    "\n",
    "#### Bağımsız Değişkenlerin Anlamlılığı (P-value)\n",
    "\n",
    "Tüm değişkenlerin p-değeri 0.05’in altında olduğu için hepsi modele anlamlı katkı sağlıyor. Şu anda backward elimination’a gerek görünmüyor.\n",
    "\n",
    "\n",
    "#### Multicollinearity ve Sayısal Stabilite\n",
    "\n",
    "Condition Number: 4.76e+07 Bu çok büyük bir değer.\n",
    "\n",
    "Bu durum, değişkenler arasında yüksek korelasyon (multicollinearity) olabileceğini gösterir.\n",
    "\n",
    "Multicollinearity varsa:\n",
    "\n",
    "Katsayıların işaretleri/şiddetleri anlamsız hale gelebilir.\n",
    "\n",
    "Model istikrarsız hale gelir.\n",
    "\n",
    "Bu durumu netleştirmek için VIF (Variance Inflation Factor) analizi önerilir.\n",
    "\n",
    "\n",
    "#### Hataların Normalliği ve Otokorelasyon\n",
    "\n",
    "Durbin-Watson: 1.992 Bu değer 2'ye yakın → Otokorelasyon yok (iyi haber).\n",
    "\n",
    "Omnibus, Jarque-Bera, Skew, Kurtosis Bu testler, artıkların (residuals) dağılımının normal olup olmadığını test eder.\n",
    "\n",
    "Skew = 1.796, Kurtosis = 13.924 → Artıklar normal dağılmıyor.\n",
    "\n",
    "Bu durum özellikle güven aralıkları ve bazı istatistiksel çıkarımlar için sorun oluşturabilir.\n",
    "\n",
    "Gerekirse log dönüşümü veya Box-Cox dönüşümü gibi tekniklerle düzeltilebilir.\n",
    "\n",
    "\n",
    "### 📌 Sonuç ve Öneriler\n",
    "✔️ Model oldukça güçlü: Yüksek R² ve anlamlı değişkenler var.\n",
    "⚠️ Multicollinearity riski var: Condition Number çok yüksek – VIF kontrolü yap.\n",
    "⚠️ Artıklar normal dağılmıyor: Regresyon varsayımlarına %100 uyum yok.\n",
    "🔁 İyileştirme için:\n",
    "\n",
    "VIF analizi → çoklu doğrusal bağlantıyı kontrol et\n",
    "\n",
    "Artıklar için dönüşüm (log, sqrt vb.) gerekebilir\n",
    "\n",
    "Outlier kontrolü yap (boxplot vs.)"
   ]
  },
  {
   "cell_type": "markdown",
   "id": "f3784c7a-6238-4200-911e-6d574533dd07",
   "metadata": {},
   "source": [
    "### VIF Analizi\n",
    "\n",
    "VIF (Variance Inflation Factor), bir regresyon modelinde çoklu doğrusal bağlantıyı (multicollinearity) tespit etmek için kullanılır."
   ]
  },
  {
   "cell_type": "code",
   "execution_count": 20,
   "id": "93f06b93-a43f-4fd2-81f2-d3cec4db46d7",
   "metadata": {},
   "outputs": [
    {
     "name": "stdout",
     "output_type": "stream",
     "text": [
      "           Değişken  VIF Değeri\n",
      "0                m2    1.441840\n",
      "1               age    1.022829\n",
      "2             floor    1.078099\n",
      "3        total_room    1.278974\n",
      "4  district_encoded    2.557470\n",
      "5  neighbor_encoded    2.661287\n"
     ]
    }
   ],
   "source": [
    "from statsmodels.stats.outliers_influence import variance_inflation_factor\n",
    "from sklearn.model_selection import train_test_split\n",
    "\n",
    "X = df.drop(columns=\"price\")\n",
    "y = df[\"price\"]\n",
    "\n",
    "# Veriyi eğitim ve test olarak ayır (80% eğitim, 20% test)\n",
    "X_train, X_test, y_train, y_test = train_test_split(X, y, test_size=0.2, random_state=42)\n",
    "\n",
    "# 'x' zaten price haricindeki bağımsız değişkenleri içeriyor\n",
    "# Gerekirse normalizasyon yap (özellikle büyük sayılar varsa)\n",
    "x_scaled = StandardScaler().fit_transform(x)\n",
    "\n",
    "# VIF hesapla\n",
    "vif_df = pd.DataFrame()\n",
    "vif_df[\"Değişken\"] = x.columns\n",
    "vif_df[\"VIF Değeri\"] = [variance_inflation_factor(x_scaled, i) for i in range(x_scaled.shape[1])]\n",
    "\n",
    "print(vif_df)"
   ]
  },
  {
   "cell_type": "code",
   "execution_count": null,
   "id": "ff065630-b31d-40e8-894a-65e7fa08adeb",
   "metadata": {},
   "outputs": [],
   "source": []
  }
 ],
 "metadata": {
  "kernelspec": {
   "display_name": "Python 3 (ipykernel)",
   "language": "python",
   "name": "python3"
  },
  "language_info": {
   "codemirror_mode": {
    "name": "ipython",
    "version": 3
   },
   "file_extension": ".py",
   "mimetype": "text/x-python",
   "name": "python",
   "nbconvert_exporter": "python",
   "pygments_lexer": "ipython3",
   "version": "3.12.7"
  }
 },
 "nbformat": 4,
 "nbformat_minor": 5
}
