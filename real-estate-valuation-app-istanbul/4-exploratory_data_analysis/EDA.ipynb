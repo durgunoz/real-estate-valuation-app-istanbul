{
 "cells": [
  {
   "cell_type": "code",
   "execution_count": 84,
   "id": "eefae9af-607b-4413-8838-909429b5e71f",
   "metadata": {},
   "outputs": [
    {
     "data": {
      "text/html": [
       "<div>\n",
       "<style scoped>\n",
       "    .dataframe tbody tr th:only-of-type {\n",
       "        vertical-align: middle;\n",
       "    }\n",
       "\n",
       "    .dataframe tbody tr th {\n",
       "        vertical-align: top;\n",
       "    }\n",
       "\n",
       "    .dataframe thead th {\n",
       "        text-align: right;\n",
       "    }\n",
       "</style>\n",
       "<table border=\"1\" class=\"dataframe\">\n",
       "  <thead>\n",
       "    <tr style=\"text-align: right;\">\n",
       "      <th></th>\n",
       "      <th>price</th>\n",
       "      <th>m2</th>\n",
       "      <th>age</th>\n",
       "      <th>floor</th>\n",
       "      <th>total_room</th>\n",
       "      <th>district_encoded</th>\n",
       "      <th>neighbor_encoded</th>\n",
       "    </tr>\n",
       "  </thead>\n",
       "  <tbody>\n",
       "    <tr>\n",
       "      <th>0</th>\n",
       "      <td>2229999</td>\n",
       "      <td>110</td>\n",
       "      <td>0</td>\n",
       "      <td>1.0</td>\n",
       "      <td>3</td>\n",
       "      <td>4.970296e+06</td>\n",
       "      <td>6.487466e+06</td>\n",
       "    </tr>\n",
       "    <tr>\n",
       "      <th>1</th>\n",
       "      <td>2650000</td>\n",
       "      <td>90</td>\n",
       "      <td>0</td>\n",
       "      <td>4.0</td>\n",
       "      <td>2</td>\n",
       "      <td>2.769582e+06</td>\n",
       "      <td>2.487815e+06</td>\n",
       "    </tr>\n",
       "    <tr>\n",
       "      <th>2</th>\n",
       "      <td>3449999</td>\n",
       "      <td>130</td>\n",
       "      <td>0</td>\n",
       "      <td>2.0</td>\n",
       "      <td>3</td>\n",
       "      <td>4.970296e+06</td>\n",
       "      <td>6.057293e+06</td>\n",
       "    </tr>\n",
       "    <tr>\n",
       "      <th>3</th>\n",
       "      <td>5475000</td>\n",
       "      <td>125</td>\n",
       "      <td>21</td>\n",
       "      <td>4.0</td>\n",
       "      <td>3</td>\n",
       "      <td>5.848908e+06</td>\n",
       "      <td>7.428125e+06</td>\n",
       "    </tr>\n",
       "  </tbody>\n",
       "</table>\n",
       "</div>"
      ],
      "text/plain": [
       "     price   m2  age  floor  total_room  district_encoded  neighbor_encoded\n",
       "0  2229999  110    0    1.0           3      4.970296e+06      6.487466e+06\n",
       "1  2650000   90    0    4.0           2      2.769582e+06      2.487815e+06\n",
       "2  3449999  130    0    2.0           3      4.970296e+06      6.057293e+06\n",
       "3  5475000  125   21    4.0           3      5.848908e+06      7.428125e+06"
      ]
     },
     "execution_count": 84,
     "metadata": {},
     "output_type": "execute_result"
    }
   ],
   "source": [
    "import pandas as pd\n",
    "import numpy as np\n",
    "import matplotlib.pyplot as plt\n",
    "\n",
    "# veride okunamayan karakterleri okutmak için encoding\n",
    "df = pd.read_csv(r\"C:\\Users\\ASUS\\Desktop\\Bitirme\\2-encoding_analysis\\encoded_data.csv\") \n",
    "\n",
    "df.head(4)"
   ]
  },
  {
   "cell_type": "markdown",
   "id": "5da5c70d-0b93-4641-b7a6-e06621b2d294",
   "metadata": {},
   "source": [
    "#### Veri Temizlenmeden R2 Değeri"
   ]
  },
  {
   "cell_type": "code",
   "execution_count": 87,
   "id": "42ce9086-63ed-4078-b21e-176e4ffa39ec",
   "metadata": {},
   "outputs": [
    {
     "name": "stdout",
     "output_type": "stream",
     "text": [
      "R² Skoru (ön işleme yapılmadan): 0.8292560478242373\n"
     ]
    }
   ],
   "source": [
    "X = df.drop(columns=\"price\")\n",
    "y = df[\"price\"]\n",
    "\n",
    "# Veriyi eğitim ve test olarak ayır (80% eğitim, 20% test)\n",
    "X_train, X_test, y_train, y_test = train_test_split(X, y, test_size=0.2, random_state=42)\n",
    "\n",
    "# Random Forest modeli oluştur ve eğit\n",
    "model = RandomForestRegressor(random_state=42)\n",
    "model.fit(X_train, y_train)\n",
    "\n",
    "# Tahmin yap ve R² skorunu hesapla\n",
    "y_pred = model.predict(X_test)\n",
    "r2 = r2_score(y_test, y_pred)\n",
    "\n",
    "print(\"R² Skoru (ön işleme yapılmadan):\", r2)"
   ]
  },
  {
   "cell_type": "markdown",
   "id": "06ff1c5b-8468-4918-be66-09d883733cd7",
   "metadata": {},
   "source": [
    "### Genel Bakış"
   ]
  },
  {
   "cell_type": "code",
   "execution_count": 90,
   "id": "4826dd9a-a427-410f-a9fd-821a185fa694",
   "metadata": {},
   "outputs": [
    {
     "name": "stdout",
     "output_type": "stream",
     "text": [
      "\n",
      " Sayısal Özelliklerin Temel İstatistikleri:\n",
      "              price            m2           age         floor    total_room  \\\n",
      "count  1.691700e+04  16917.000000  16917.000000  16917.000000  16917.000000   \n",
      "mean   8.639425e+06    123.472129     13.501626      3.424514      3.646332   \n",
      "std    8.267649e+06     48.536256     14.589361      3.809870      1.911790   \n",
      "min    1.200000e+06     50.000000      0.000000     -3.000000      2.000000   \n",
      "25%    3.600000e+06     90.000000      1.000000      1.000000      3.000000   \n",
      "50%    5.750000e+06    110.000000      8.000000      3.000000      3.000000   \n",
      "75%    1.000000e+07    145.000000     25.000000      4.000000      4.000000   \n",
      "max    6.000000e+07    350.000000    340.000000     24.000000    165.000000   \n",
      "\n",
      "       district_encoded  neighbor_encoded  \n",
      "count      1.691700e+04      1.691700e+04  \n",
      "mean       8.639425e+06      8.639425e+06  \n",
      "std        5.089616e+06      6.233915e+06  \n",
      "min        2.769582e+06      1.957914e+06  \n",
      "25%        4.970296e+06      4.665868e+06  \n",
      "50%        7.340519e+06      6.343338e+06  \n",
      "75%        1.030933e+07      9.753616e+06  \n",
      "max        2.011113e+07      3.950000e+07  \n"
     ]
    }
   ],
   "source": [
    "# Sayısal sütunların temel istatistik özeti\n",
    "print(\"\\n Sayısal Özelliklerin Temel İstatistikleri:\")\n",
    "print(df.describe())"
   ]
  },
  {
   "cell_type": "markdown",
   "id": "0095008e-c4fb-40ff-960c-400a1d84bdb6",
   "metadata": {},
   "source": [
    "**gerçekçi olmayan değerler --> age ve total_room max'ları göze çarpıyor**"
   ]
  },
  {
   "cell_type": "markdown",
   "id": "27a9e7c7-d3f0-4f9d-800a-71877ec461e8",
   "metadata": {},
   "source": [
    "### Korelasyon Haritası"
   ]
  },
  {
   "cell_type": "code",
   "execution_count": 94,
   "id": "554c7dc5-f461-49ee-8ee8-57c05d96a11b",
   "metadata": {},
   "outputs": [
    {
     "data": {
      "image/png": "[encoded data removed]",
      "text/plain": [
       "<Figure size 1000x800 with 2 Axes>"
      ]
     },
     "metadata": {},
     "output_type": "display_data"
    }
   ],
   "source": [
    "# Veri ile ilgili analiz kısmında kullanılacak\n",
    "\n",
    "corr = df.corr(numeric_only=True)\n",
    "\n",
    "# Matplotlib ile heatmap çizimi\n",
    "fig, ax = plt.subplots(figsize=(10, 8))\n",
    "cax = ax.matshow(corr, cmap='coolwarm')  # renk haritası\n",
    "\n",
    "# Renk çubuğu (colorbar)\n",
    "fig.colorbar(cax)\n",
    "\n",
    "# Eksen etiketlerini ayarla\n",
    "ax.set_xticks(range(len(corr.columns)))\n",
    "ax.set_yticks(range(len(corr.columns)))\n",
    "ax.set_xticklabels(corr.columns, rotation=45, ha='left')\n",
    "ax.set_yticklabels(corr.columns)\n",
    "\n",
    "# Sayısal değerleri hücrelerin içine yaz\n",
    "for i in range(len(corr.columns)):\n",
    "    for j in range(len(corr.columns)):\n",
    "        value = round(corr.iloc[i, j], 2)\n",
    "        ax.text(j, i, str(value), va='center', ha='center', color='black')\n",
    "\n",
    "plt.title(\"Korelasyon Isı Haritası\", pad=20)\n",
    "plt.tight_layout()\n",
    "plt.show()"
   ]
  },
  {
   "cell_type": "markdown",
   "id": "aa185f47-aba2-44ff-ab63-867543e9789a",
   "metadata": {},
   "source": [
    "Multicollinearity riski düşük ama district_encoded ve neighbor_encoded çiftine dikkat edilmeli. --> VIF Analizi"
   ]
  },
  {
   "cell_type": "markdown",
   "id": "9b324169-b1d8-4deb-b769-492a0d87b9de",
   "metadata": {},
   "source": [
    "## Box Plot İncelemesi\n",
    "\n",
    "Boxplotlar, bir değişkenin dağılımını, medyanını, çeyreklerini ve uç değerlerini görsel olarak analiz etmemizi sağlar.\n",
    "\n",
    "Outlier tespiti gibi konularda çok kullanışlıdır."
   ]
  },
  {
   "cell_type": "code",
   "execution_count": 101,
   "id": "8648980e-481b-4554-a234-b8bb63972d89",
   "metadata": {},
   "outputs": [
    {
     "data": {
      "image/png": "[encoded data removed]",
      "text/plain": [
       "<Figure size 800x150 with 1 Axes>"
      ]
     },
     "metadata": {},
     "output_type": "display_data"
    },
    {
     "data": {
      "image/png": "[encoded data removed]",
      "text/plain": [
       "<Figure size 800x150 with 1 Axes>"
      ]
     },
     "metadata": {},
     "output_type": "display_data"
    },
    {
     "data": {
      "image/png": "[encoded data removed]",
      "text/plain": [
       "<Figure size 800x150 with 1 Axes>"
      ]
     },
     "metadata": {},
     "output_type": "display_data"
    },
    {
     "data": {
      "image/png": "[encoded data removed]",
      "text/plain": [
       "<Figure size 800x150 with 1 Axes>"
      ]
     },
     "metadata": {},
     "output_type": "display_data"
    },
    {
     "data": {
      "image/png": "[encoded data removed]",
      "text/plain": [
       "<Figure size 800x150 with 1 Axes>"
      ]
     },
     "metadata": {},
     "output_type": "display_data"
    }
   ],
   "source": [
    "import matplotlib.pyplot as plt\n",
    "import seaborn as sns\n",
    "\n",
    "# Sayısal sütunları tanımla\n",
    "numerical_columns = ['price', 'm2', 'age', 'floor', 'total_room']\n",
    "\n",
    "# Her sayısal değişken için boxplot çiz\n",
    "for col in numerical_columns:\n",
    "    plt.figure(figsize=(8, 1.5))           # Geniş yatay kutu grafiği\n",
    "    sns.boxplot(x=df[col], orient=\"h\")     # Yatay boxplot\n",
    "    plt.title(f\"{col} - Boxplot\")          # Başlık\n",
    "    plt.tight_layout()\n",
    "    plt.show()"
   ]
  },
  {
   "cell_type": "markdown",
   "id": "5660c281-a80d-4d38-a991-29ef9e9de417",
   "metadata": {},
   "source": [
    "### price\n",
    "\n",
    "Kutudan sonra gelen çok sayıda nokta: yüksek uç değerler (lüks konutlar gibi)\n",
    "\n",
    "Fiyat verisi sağa çarpık ve uç değerlere sahip. Modelleme yaparken log dönüşümü düşünülmeli. Ayrıca bu uç değerler, modelin tahminlerini bozabilir.\n",
    "\n",
    "### m2\n",
    "\n",
    "Veride büyük evler az sayıda ama çok etkili. İsteğe bağlı olarak 250+ m² değerleri temizleyebilirsin (toplu konutlar, villa vb. olabilir).\n",
    "\n",
    "### age\n",
    "\n",
    "Binaların çoğu yeni, ancak arada çok eski (yüz yıllık) yapılar var. Bunlar gerçekten tarihi yapıysa modelde kalsın ama veri hatasıysa çıkarılmalı.\n",
    "\n",
    "### floor\n",
    "\n",
    "Zaten düzenlemeyi yapmıştık normal gözüküyor\n",
    "\n",
    "### total_room \n",
    "\n",
    "10, 20 odadan sonrası için outlier denilebilir"
   ]
  },
  {
   "cell_type": "markdown",
   "id": "b428d375-95c9-4d06-8965-980b0b612999",
   "metadata": {},
   "source": [
    "### Outlier Temizliği"
   ]
  },
  {
   "cell_type": "code",
   "execution_count": 135,
   "id": "b7028699-2ebf-4e15-82e3-8d8af8d87773",
   "metadata": {},
   "outputs": [
    {
     "name": "stdout",
     "output_type": "stream",
     "text": [
      "Yaşı 70 üzeri ev sayısı: 51\n",
      "300 m² üzeri ev sayısı: 95\n",
      "Oda sayısı 30'dan büyük ev sayısı: 7\n",
      "Toplam çıkarılacak kayıt sayısı (tekrarsız): 153\n",
      "Bu kayıtlar veri setinin %0.90'sini oluşturuyor.\n"
     ]
    }
   ],
   "source": [
    "# Toplam satır sayısı\n",
    "total_rows = df.shape[0]\n",
    "\n",
    "# age > 70\n",
    "count_age_over_70 = df[df[\"age\"] > 70].shape[0]\n",
    "print(\"Yaşı 70 üzeri ev sayısı:\", count_age_over_70)\n",
    "\n",
    "# m2 > 300\n",
    "count_m2_over_300 = df[df[\"m2\"] > 300].shape[0]\n",
    "print(\"300 m² üzeri ev sayısı:\", count_m2_over_300)\n",
    "\n",
    "# total_room > 30\n",
    "count_room_over_30 = df[df[\"total_room\"] > 30].shape[0]\n",
    "print(\"Oda sayısı 30'dan büyük ev sayısı:\", count_room_over_30)\n",
    "\n",
    "# Üç koşuldan herhangi birine uyan kayıtlar (birleşik ve tekrarsız)\n",
    "combined_outliers = df[\n",
    "    (df[\"age\"] > 70) |\n",
    "    (df[\"m2\"] > 300) |\n",
    "    (df[\"total_room\"] > 30)\n",
    "]\n",
    "\n",
    "total_outliers = combined_outliers.shape[0]\n",
    "percentage_outliers = (total_outliers / total_rows) * 100\n",
    "\n",
    "print(\"Toplam çıkarılacak kayıt sayısı (tekrarsız):\", total_outliers)\n",
    "print(f\"Bu kayıtlar veri setinin %{percentage_outliers:.2f}'sini oluşturuyor.\")\n"
   ]
  },
  {
   "cell_type": "code",
   "execution_count": 140,
   "id": "aca2a293-dcb3-4fd6-90aa-2ce4bf7ce685",
   "metadata": {},
   "outputs": [
    {
     "name": "stdout",
     "output_type": "stream",
     "text": [
      "R² Skoru (ön işleme yapılmadan): 0.8292560478242373\n",
      "R² Skoru (sadece age > 70 çıkarıldı): 0.8257033665792088\n",
      "R² Skoru (sadece m2 > 300 çıkarıldı): 0.8173800946806786\n",
      "R² Skoru (sadece total_room > 30 çıkarıldı): 0.8380816144842884\n",
      "R² Skoru (age > 70, m2 > 300, total_room > 30 çıkarıldı): 0.8631574359315015\n"
     ]
    }
   ],
   "source": [
    "from sklearn.model_selection import train_test_split\n",
    "from sklearn.ensemble import RandomForestRegressor\n",
    "from sklearn.metrics import r2_score\n",
    "\n",
    "print(\"R² Skoru (ön işleme yapılmadan): 0.8292560478242373\")\n",
    "def evaluate_model(df, condition, description):\n",
    "    # Veriyi filtrele\n",
    "    df_filtered = df[condition]\n",
    "    \n",
    "    # price dışındaki sütunları X, price'ı y olarak ayır\n",
    "    X = df_filtered.drop(columns=\"price\")\n",
    "    y = df_filtered[\"price\"]\n",
    "\n",
    "    # Veriyi eğitim ve test olarak ayır\n",
    "    X_train, X_test, y_train, y_test = train_test_split(X, y, test_size=0.2, random_state=42)\n",
    "\n",
    "    # Modeli eğit\n",
    "    model = RandomForestRegressor(random_state=42)\n",
    "    model.fit(X_train, y_train)\n",
    "\n",
    "    # Tahmin ve skor\n",
    "    y_pred = model.predict(X_test)\n",
    "    r2 = r2_score(y_test, y_pred)\n",
    "    \n",
    "    print(f\"R² Skoru ({description}):\", r2)\n",
    "\n",
    "\n",
    "# Farklı filtrelerle modeli değerlendir\n",
    "evaluate_model(df, df[\"age\"] <= 70, \"sadece age > 70 çıkarıldı\")\n",
    "evaluate_model(df, df[\"m2\"] <= 300, \"sadece m2 > 300 çıkarıldı\")\n",
    "evaluate_model(df, df[\"total_room\"] <= 30, \"sadece total_room > 30 çıkarıldı\")\n",
    "evaluate_model(df, (df[\"age\"] <= 70) & (df[\"m2\"] <= 300) & (df[\"total_room\"] <= 30),\n",
    "               \"age > 70, m2 > 300, total_room > 30 çıkarıldı\")\n"
   ]
  },
  {
   "cell_type": "code",
   "execution_count": 146,
   "id": "39805c9b-7634-4272-927f-b0c182ea141e",
   "metadata": {},
   "outputs": [
    {
     "data": {
      "text/plain": [
       "(16764, 7)"
      ]
     },
     "execution_count": 146,
     "metadata": {},
     "output_type": "execute_result"
    }
   ],
   "source": [
    "df_next = df[(df[\"age\"] <= 70) & (df[\"m2\"] <= 300) & (df[\"total_room\"] <= 30)]\n",
    "df_next.shape"
   ]
  },
  {
   "cell_type": "markdown",
   "id": "e2e5c918-33b6-405f-a348-ccfb8128d060",
   "metadata": {},
   "source": [
    "# IQR, Z-Score, Winsorition"
   ]
  },
  {
   "cell_type": "markdown",
   "id": "e8596815-5327-4213-98a7-91470255d93d",
   "metadata": {},
   "source": [
    "# IQR\n"
   ]
  },
  {
   "cell_type": "code",
   "execution_count": 155,
   "id": "dee3ac1e-69de-4177-8330-c114cc591676",
   "metadata": {},
   "outputs": [
    {
     "name": "stdout",
     "output_type": "stream",
     "text": [
      "price değişkeninde IQR ile tespit edilen aykırı değer sayısı: 1588\n",
      "m2 değişkeninde IQR ile tespit edilen aykırı değer sayısı: 766\n",
      "age değişkeninde IQR ile tespit edilen aykırı değer sayısı: 63\n",
      "floor değişkeninde IQR ile tespit edilen aykırı değer sayısı: 1711\n",
      "total_room değişkeninde IQR ile tespit edilen aykırı değer sayısı: 1108\n"
     ]
    }
   ],
   "source": [
    "# IQR yöntemiyle aykırı değer sayısını hesaplayan fonksiyon\n",
    "def detect_outliers_iqr(data, column):\n",
    "    Q1 = data[column].quantile(0.25)\n",
    "    Q3 = data[column].quantile(0.75)\n",
    "    IQR = Q3 - Q1\n",
    "    lower_bound = Q1 - 1.5 * IQR\n",
    "    upper_bound = Q3 + 1.5 * IQR\n",
    "    outliers = data[(data[column] < lower_bound) | (data[column] > upper_bound)]\n",
    "    return len(outliers)\n",
    "\n",
    "# İncelenecek sayısal sütunlar\n",
    "numeric_columns = [\"price\", \"m2\", \"age\", \"floor\", \"total_room\"]\n",
    "\n",
    "# Her sütun için IQR yöntemiyle outlier sayısını bul\n",
    "iqr_outlier_counts = {col: detect_outliers_iqr(df, col) for col in numeric_columns}\n",
    "\n",
    "# Sonuçları yazdır\n",
    "for col, count in iqr_outlier_counts.items():\n",
    "    print(f\"{col} değişkeninde IQR ile tespit edilen aykırı değer sayısı: {count}\")\n"
   ]
  },
  {
   "cell_type": "markdown",
   "id": "8a7f8ccc-5383-4bd4-a604-b11ceb145c44",
   "metadata": {},
   "source": [
    "# Z-Score"
   ]
  },
  {
   "cell_type": "code",
   "execution_count": 158,
   "id": "c6641f27-30d0-4cc3-bddc-52587f31a64d",
   "metadata": {},
   "outputs": [
    {
     "name": "stdout",
     "output_type": "stream",
     "text": [
      "price değişkeninde Z-score ile tespit edilen aykırı değer sayısı: 423\n",
      "m2 değişkeninde Z-score ile tespit edilen aykırı değer sayısı: 306\n",
      "age değişkeninde Z-score ile tespit edilen aykırı değer sayısı: 87\n",
      "floor değişkeninde Z-score ile tespit edilen aykırı değer sayısı: 267\n",
      "total_room değişkeninde Z-score ile tespit edilen aykırı değer sayısı: 28\n"
     ]
    }
   ],
   "source": [
    "from scipy.stats import zscore\n",
    "import numpy as np\n",
    "\n",
    "# Z-score yöntemiyle outlier sayısını hesaplayan fonksiyon\n",
    "def detect_outliers_zscore(data, column, threshold=3):\n",
    "    z_scores = zscore(data[column])\n",
    "    outliers = np.where(np.abs(z_scores) > threshold)[0]\n",
    "    return len(outliers)\n",
    "\n",
    "# İncelenecek sayısal sütunlar\n",
    "numeric_columns = [\"price\", \"m2\", \"age\", \"floor\", \"total_room\"]\n",
    "\n",
    "# Her sütun için Z-score yöntemiyle outlier sayısını bul\n",
    "zscore_outlier_counts = {col: detect_outliers_zscore(df, col) for col in numeric_columns}\n",
    "\n",
    "# Sonuçları yazdır\n",
    "for col, count in zscore_outlier_counts.items():\n",
    "    print(f\"{col} değişkeninde Z-score ile tespit edilen aykırı değer sayısı: {count}\")\n"
   ]
  },
  {
   "cell_type": "markdown",
   "id": "e782fc66-71a1-41a6-9d0d-d478e2105a0c",
   "metadata": {},
   "source": [
    "### Winsorisiton"
   ]
  },
  {
   "cell_type": "code",
   "execution_count": 188,
   "id": "3fdbfdaf-6087-4ea3-9952-9fb26298bd50",
   "metadata": {},
   "outputs": [
    {
     "name": "stdout",
     "output_type": "stream",
     "text": [
      "R² Skoru sade df (%1 Winsorization): 0.846035\n",
      "R² Skoru sade df (%3 Winsorization): 0.861451\n",
      "R² Skoru sade df (%5 Winsorization): 0.867626\n",
      "R² Skoru sade df (%7 Winsorization): 0.866924\n"
     ]
    }
   ],
   "source": [
    "from scipy.stats.mstats import winsorize\n",
    "from sklearn.model_selection import train_test_split\n",
    "from sklearn.ensemble import RandomForestRegressor\n",
    "from sklearn.metrics import r2_score\n",
    "\n",
    "# Tek listeyle tüm oranları test edelim\n",
    "winsor_limits = [0.01, 0.03, 0.05, 0.07]\n",
    "\n",
    "# Her winsor oranı için R² skorunu hesapla\n",
    "for limit in winsor_limits:\n",
    "    df_test = df.copy()  # her iterasyonda temiz kopya\n",
    "\n",
    "    # Belirlenen sütunlara winsorize uygula\n",
    "    for col in [\"price\", \"m2\", \"total_room\"]:\n",
    "        df_test[col] = winsorize(df_test[col], limits=[limit, limit])\n",
    "\n",
    "    # Modelleme\n",
    "    X = df_test.drop(columns=\"price\")\n",
    "    y = df_test[\"price\"]\n",
    "    X_train, X_test, y_train, y_test = train_test_split(X, y, test_size=0.2, random_state=42)\n",
    "    \n",
    "    model = RandomForestRegressor(random_state=42)\n",
    "    model.fit(X_train, y_train)\n",
    "    y_pred = model.predict(X_test)\n",
    "    \n",
    "    r2 = r2_score(y_test, y_pred)\n",
    "    print(f\"R² Skoru sade df (%{int(limit*100)} Winsorization): {r2:.6f}\")\n"
   ]
  },
  {
   "cell_type": "code",
   "execution_count": 198,
   "id": "e4d51013-7983-458a-bafb-cf53c4dca672",
   "metadata": {},
   "outputs": [
    {
     "name": "stdout",
     "output_type": "stream",
     "text": [
      "R² Skoru df_next (%1 Winsorization): 0.873423\n",
      "R² Skoru df_next (%3 Winsorization): 0.872410\n",
      "R² Skoru df_next (%5 Winsorization): 0.872541\n",
      "R² Skoru df_next (%7 Winsorization): 0.870547\n"
     ]
    }
   ],
   "source": [
    "from scipy.stats.mstats import winsorize\n",
    "from sklearn.model_selection import train_test_split\n",
    "from sklearn.ensemble import RandomForestRegressor\n",
    "from sklearn.metrics import r2_score\n",
    "\n",
    "# Tek listeyle tüm oranları test edelim\n",
    "winsor_limits = [0.01, 0.03, 0.05, 0.07]\n",
    "\n",
    "# Her winsor oranı için R² skorunu hesapla\n",
    "for limit in winsor_limits:\n",
    "    df_test = df_next.copy()  # her iterasyonda temiz kopya\n",
    "\n",
    "    # Belirlenen sütunlara winsorize uygula\n",
    "    for col in [\"m2\", \"total_room\",\"age\"]:\n",
    "        df_test[col] = winsorize(df_test[col], limits=[limit, limit])\n",
    "\n",
    "    # Modelleme\n",
    "    X = df_test.drop(columns=\"price\")\n",
    "    y = df_test[\"price\"]\n",
    "    X_train, X_test, y_train, y_test = train_test_split(X, y, test_size=0.2, random_state=42)\n",
    "    \n",
    "    model = RandomForestRegressor(random_state=42)\n",
    "    model.fit(X_train, y_train)\n",
    "    y_pred = model.predict(X_test)\n",
    "    \n",
    "    r2 = r2_score(y_test, y_pred)\n",
    "    print(f\"R² Skoru df_next (%{int(limit*100)} Winsorization): {r2:.6f}\")\n"
   ]
  },
  {
   "cell_type": "markdown",
   "id": "deb2c68b-b300-4f9a-86f4-96c19b7dbacc",
   "metadata": {},
   "source": [
    "# IQR\n"
   ]
  },
  {
   "cell_type": "code",
   "execution_count": 204,
   "id": "e01e8301-518e-4f9b-b255-923f44bd575b",
   "metadata": {},
   "outputs": [
    {
     "name": "stdout",
     "output_type": "stream",
     "text": [
      "R² Skoru (IQR katsayısı k=1.0): 0.767606\n",
      "R² Skoru (IQR katsayısı k=1.3): 0.776516\n",
      "R² Skoru (IQR katsayısı k=1.6): 0.791424\n",
      "R² Skoru (IQR katsayısı k=1.9): 0.799278\n",
      "R² Skoru (IQR katsayısı k=2.2): 0.807761\n",
      "R² Skoru (IQR katsayısı k=2.5): 0.815577\n",
      "R² Skoru (IQR katsayısı k=2.8): 0.836686\n",
      "R² Skoru (IQR katsayısı k=3.1): 0.830816\n",
      "R² Skoru (IQR katsayısı k=3.4): 0.828864\n",
      "R² Skoru (IQR katsayısı k=3.7): 0.841929\n",
      "R² Skoru (IQR katsayısı k=4.0): 0.845453\n"
     ]
    }
   ],
   "source": [
    "from sklearn.model_selection import train_test_split\n",
    "from sklearn.ensemble import RandomForestRegressor\n",
    "from sklearn.metrics import r2_score\n",
    "import numpy as np\n",
    "\n",
    "# IQR outlier temizleme fonksiyonu (esnek k)\n",
    "def remove_outliers_iqr(df, column, k):\n",
    "    Q1 = df[column].quantile(0.25)\n",
    "    Q3 = df[column].quantile(0.75)\n",
    "    IQR = Q3 - Q1\n",
    "    lower = Q1 - k * IQR\n",
    "    upper = Q3 + k * IQR\n",
    "    return df[(df[column] >= lower) & (df[column] <= upper)]\n",
    "\n",
    "# Denenecek k değerleri\n",
    "k_values = np.arange(1.0, 4.2, 0.3)\n",
    "\n",
    "# IQR uygulanacak sütunlar\n",
    "columns = [\"price\", \"m2\", \"total_room\", \"age\"]\n",
    "\n",
    "# Sonuçları tut\n",
    "for k in k_values:\n",
    "    df_iqr = df.copy()\n",
    "    for col in columns:\n",
    "        df_iqr = remove_outliers_iqr(df_iqr, col, k)\n",
    "\n",
    "    X = df_iqr.drop(columns=\"price\")\n",
    "    y = df_iqr[\"price\"]\n",
    "    X_train, X_test, y_train, y_test = train_test_split(X, y, test_size=0.2, random_state=42)\n",
    "\n",
    "    model = RandomForestRegressor(random_state=42)\n",
    "    model.fit(X_train, y_train)\n",
    "    y_pred = model.predict(X_test)\n",
    "\n",
    "    r2 = r2_score(y_test, y_pred)\n",
    "    print(f\"R² Skoru (IQR katsayısı k={k:.1f}): {r2:.6f}\")\n"
   ]
  },
  {
   "cell_type": "markdown",
   "id": "ecd3917b-560a-4e7a-9715-cf624e1fb35b",
   "metadata": {},
   "source": [
    "# Z - Score"
   ]
  },
  {
   "cell_type": "code",
   "execution_count": 210,
   "id": "0b34eade-a98e-4ab2-9e4d-74c945aec04e",
   "metadata": {},
   "outputs": [
    {
     "name": "stdout",
     "output_type": "stream",
     "text": [
      "R² Skoru (Z-score threshold = 2.0): 0.803909\n",
      "R² Skoru (Z-score threshold = 2.5): 0.835104\n",
      "R² Skoru (Z-score threshold = 3.0): 0.836189\n",
      "R² Skoru (Z-score threshold = 3.5): 0.831031\n"
     ]
    }
   ],
   "source": [
    "from scipy.stats import zscore\n",
    "from sklearn.model_selection import train_test_split\n",
    "from sklearn.ensemble import RandomForestRegressor\n",
    "from sklearn.metrics import r2_score\n",
    "import numpy as np\n",
    "\n",
    "# Denenecek z-score eşikleri\n",
    "z_thresholds = [2.0, 2.5, 3.0, 3.5]\n",
    "\n",
    "# Sütunlar\n",
    "columns = [\"price\", \"m2\", \"total_room\", \"age\"]\n",
    "\n",
    "# Sonuçları tut\n",
    "for z_thresh in z_thresholds:\n",
    "    df_z = df.copy()\n",
    "    \n",
    "    for col in columns:\n",
    "        z = np.abs(zscore(df_z[col]))\n",
    "        df_z = df_z[z < z_thresh]\n",
    "\n",
    "    # Modelleme\n",
    "    X = df_z.drop(columns=\"price\")\n",
    "    y = df_z[\"price\"]\n",
    "    X_train, X_test, y_train, y_test = train_test_split(X, y, test_size=0.2, random_state=42)\n",
    "    model = RandomForestRegressor(random_state=42)\n",
    "    model.fit(X_train, y_train)\n",
    "    y_pred = model.predict(X_test)\n",
    "    r2 = r2_score(y_test, y_pred)\n",
    "    \n",
    "    print(f\"R² Skoru (Z-score threshold = {z_thresh}): {r2:.6f}\")\n"
   ]
  },
  {
   "cell_type": "markdown",
   "id": "b3a0fefd-0585-4383-b61b-b083dc9d7581",
   "metadata": {},
   "source": [
    "| Z-score Eşiği | R² Skoru     | Kayıp/Temizlik Dengesi    | Yorum                                             |\n",
    "| ------------- | ------------ | ------------------------- | ------------------------------------------------- |\n",
    "| **2.0**       | 0.8039       | Çok sıkı (aşırı temizlik) | ⚠️ Performans düştü — fazla bilgi kaybı           |\n",
    "| **2.5**       | 0.8351       | Dengeli temizlik          | 👍 Güçlü sonuç                                    |\n",
    "| **3.0**       | **0.8362** ✅ | En iyi denge              | 🏆 En yüksek skor                                 |\n",
    "| **3.5**       | 0.8310       | Temizlik azaldı           | 🔁 Skor hafif düştü — uç değerler kalmaya başladı |\n"
   ]
  },
  {
   "cell_type": "markdown",
   "id": "d312f0b8-d318-4bc5-9fd0-01ba359711a7",
   "metadata": {},
   "source": [
    "| Yöntem                 | En İyi Sonuç (R²)   |\n",
    "| ---------------------- | ------------------- |\n",
    "| ✅ Winsorize            | **0.8748** (en iyi) |\n",
    "| Z-Score                | 0.8362              |\n",
    "| IQR                    | 0.8455              |\n",
    "| Z < 3.0 veya IQR < 2.5 | 0.76–0.82 arası ❌   |\n"
   ]
  },
  {
   "cell_type": "code",
   "execution_count": 214,
   "id": "693ad242-1ede-4a09-a6a7-d6672fe4861f",
   "metadata": {},
   "outputs": [
    {
     "name": "stdout",
     "output_type": "stream",
     "text": [
      "df_next2 başarıyla oluşturuldu ve kaydedildi: df_next2_winsorized.csv\n"
     ]
    }
   ],
   "source": [
    "from scipy.stats.mstats import winsorize\n",
    "import pandas as pd\n",
    "\n",
    "# Orijinal veriyi oku (zaten df varsa bunu atla)\n",
    "# df = pd.read_csv(\"encoded_data.csv\")\n",
    "\n",
    "# 3 filtreleme uygulanmış hali → df_next2\n",
    "df_next2 = df[(df[\"age\"] <= 70) & (df[\"m2\"] <= 300) & (df[\"total_room\"] <= 30)].copy()\n",
    "\n",
    "# Winsorize edilecek sütunlar\n",
    "columns_to_winsorize = [\"price\", \"m2\", \"total_room\", \"age\"]\n",
    "\n",
    "# %1 alt/üst kırpma (winsorization)\n",
    "for col in columns_to_winsorize:\n",
    "    df_next2[col] = winsorize(df_next2[col], limits=[0.01, 0.01])\n",
    "\n",
    "# CSV olarak kaydet\n",
    "df_next2.to_csv(\"df_next2_winsorized.csv\", index=False)\n",
    "\n",
    "print(\"df_next2 başarıyla oluşturuldu ve kaydedildi: df_next2_winsorized.csv\")\n"
   ]
  },
  {
   "cell_type": "code",
   "execution_count": null,
   "id": "f15b4799-09a1-4ef9-a92e-72dc686ad41a",
   "metadata": {},
   "outputs": [],
   "source": []
  }
 ],
 "metadata": {
  "kernelspec": {
   "display_name": "Python 3 (ipykernel)",
   "language": "python",
   "name": "python3"
  },
  "language_info": {
   "codemirror_mode": {
    "name": "ipython",
    "version": 3
   },
   "file_extension": ".py",
   "mimetype": "text/x-python",
   "name": "python",
   "nbconvert_exporter": "python",
   "pygments_lexer": "ipython3",
   "version": "3.12.7"
  }
 },
 "nbformat": 4,
 "nbformat_minor": 5
}
