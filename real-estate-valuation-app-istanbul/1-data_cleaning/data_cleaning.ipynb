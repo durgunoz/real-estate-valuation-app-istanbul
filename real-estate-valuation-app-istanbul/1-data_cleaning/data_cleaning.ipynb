{
 "cells": [
  {
   "cell_type": "markdown",
   "id": "a90661fb-cde0-4abb-b1de-ef2175119a32",
   "metadata": {},
   "source": [
    "### Gerekli Kütüphaneler\n"
   ]
  },
  {
   "cell_type": "code",
   "execution_count": 4,
   "id": "07bfaba1-1e8b-4a07-8cc5-940e3cba573f",
   "metadata": {},
   "outputs": [],
   "source": [
    "import pandas as pd\n",
    "import numpy as np\n",
    "import matplotlib.pyplot as plt"
   ]
  },
  {
   "cell_type": "markdown",
   "id": "eb67e8f9-56af-4870-86d8-87344d040fc2",
   "metadata": {},
   "source": [
    "### Veriyi Oku ve Çıktı Ver"
   ]
  },
  {
   "cell_type": "code",
   "execution_count": 11,
   "id": "6e234c10-27a3-4788-b59b-ea9164056715",
   "metadata": {},
   "outputs": [
    {
     "data": {
      "text/html": [
       "<div>\n",
       "<style scoped>\n",
       "    .dataframe tbody tr th:only-of-type {\n",
       "        vertical-align: middle;\n",
       "    }\n",
       "\n",
       "    .dataframe tbody tr th {\n",
       "        vertical-align: top;\n",
       "    }\n",
       "\n",
       "    .dataframe thead th {\n",
       "        text-align: right;\n",
       "    }\n",
       "</style>\n",
       "<table border=\"1\" class=\"dataframe\">\n",
       "  <thead>\n",
       "    <tr style=\"text-align: right;\">\n",
       "      <th></th>\n",
       "      <th>price</th>\n",
       "      <th>m2</th>\n",
       "      <th>age</th>\n",
       "      <th>floor</th>\n",
       "      <th>district</th>\n",
       "      <th>neighbor</th>\n",
       "      <th>total_room</th>\n",
       "    </tr>\n",
       "  </thead>\n",
       "  <tbody>\n",
       "    <tr>\n",
       "      <th>0</th>\n",
       "      <td>2229999\\n                  TL</td>\n",
       "      <td>110</td>\n",
       "      <td>0.0</td>\n",
       "      <td>1</td>\n",
       "      <td>Beylikdüzü</td>\n",
       "      <td>Marmara Mah.</td>\n",
       "      <td>3.0</td>\n",
       "    </tr>\n",
       "    <tr>\n",
       "      <th>1</th>\n",
       "      <td>2650000\\n                  TL</td>\n",
       "      <td>90</td>\n",
       "      <td>0.0</td>\n",
       "      <td>4</td>\n",
       "      <td>Esenyurt</td>\n",
       "      <td>Güzelyurt Mah.</td>\n",
       "      <td>2.0</td>\n",
       "    </tr>\n",
       "    <tr>\n",
       "      <th>2</th>\n",
       "      <td>3449999\\n                  TL</td>\n",
       "      <td>130</td>\n",
       "      <td>0.0</td>\n",
       "      <td>2</td>\n",
       "      <td>Beylikdüzü</td>\n",
       "      <td>Adnan Kahveci Mah.</td>\n",
       "      <td>3.0</td>\n",
       "    </tr>\n",
       "    <tr>\n",
       "      <th>3</th>\n",
       "      <td>5475000\\n                  TL</td>\n",
       "      <td>125</td>\n",
       "      <td>21.0</td>\n",
       "      <td>4</td>\n",
       "      <td>Pendik</td>\n",
       "      <td>Harmandere Mah.</td>\n",
       "      <td>3.0</td>\n",
       "    </tr>\n",
       "    <tr>\n",
       "      <th>4</th>\n",
       "      <td>3450980\\n                  TL</td>\n",
       "      <td>110</td>\n",
       "      <td>0.0</td>\n",
       "      <td>1</td>\n",
       "      <td>Beylikdüzü</td>\n",
       "      <td>Adnan Kahveci Mah.</td>\n",
       "      <td>2.0</td>\n",
       "    </tr>\n",
       "  </tbody>\n",
       "</table>\n",
       "</div>"
      ],
      "text/plain": [
       "                           price   m2   age floor      district  \\\n",
       "0  2229999\\n                  TL  110   0.0     1   Beylikdüzü    \n",
       "1  2650000\\n                  TL   90   0.0     4     Esenyurt    \n",
       "2  3449999\\n                  TL  130   0.0     2   Beylikdüzü    \n",
       "3  5475000\\n                  TL  125  21.0     4       Pendik    \n",
       "4  3450980\\n                  TL  110   0.0     1   Beylikdüzü    \n",
       "\n",
       "              neighbor  total_room  \n",
       "0         Marmara Mah.         3.0  \n",
       "1       Güzelyurt Mah.         2.0  \n",
       "2   Adnan Kahveci Mah.         3.0  \n",
       "3      Harmandere Mah.         3.0  \n",
       "4   Adnan Kahveci Mah.         2.0  "
      ]
     },
     "execution_count": 11,
     "metadata": {},
     "output_type": "execute_result"
    }
   ],
   "source": [
    "df = pd.read_excel(r\"C:\\Users\\ASUS\\Desktop\\Bitirme\\1-data_cleaning\\birlesik_dosya_(0-1000).xlsx\")\n",
    "df.head(5)"
   ]
  },
  {
   "cell_type": "markdown",
   "id": "50995966-0dea-4544-a51c-0d781009db16",
   "metadata": {},
   "source": [
    "# Veri Düzenleme\n",
    "\n",
    "Veri Kümesinin Genel Özeti\n",
    "\n",
    "Sayısal Değişkenlerin Tanımlayıcı İstatistikleri\n",
    "\n",
    "Eksik Değer Analizi\n",
    "\n",
    "Kategorik Değişkenlerin Dağılımı\n",
    "\n",
    "Aykırı Değer Kontrolü (Outlier Detection)\n",
    "\n",
    "Korelasyon Analizi\n",
    "\n",
    "Veri Temizleme (Tutarsızlık ve Tekrar Eden Değerler)\n",
    "\n",
    "Hedef ve Özellik İlişkileri (Varsa Hedef Değişken)\n",
    "\n",
    "Yinelenen (Duplicate) Satır Kontrolü\n",
    "\n",
    "Veri Tiplerinin Kontrolü ve Dönüşümler\n"
   ]
  },
  {
   "cell_type": "markdown",
   "id": "83b75551-1add-4005-ba00-d31afa416ffe",
   "metadata": {},
   "source": [
    "### Genel Bakış"
   ]
  },
  {
   "cell_type": "code",
   "execution_count": 15,
   "id": "d913a050-b220-4948-bbc9-9d709a85f7ac",
   "metadata": {},
   "outputs": [
    {
     "name": "stdout",
     "output_type": "stream",
     "text": [
      "<class 'pandas.core.frame.DataFrame'>\n",
      "RangeIndex: 18481 entries, 0 to 18480\n",
      "Data columns (total 7 columns):\n",
      " #   Column      Non-Null Count  Dtype  \n",
      "---  ------      --------------  -----  \n",
      " 0   price       18481 non-null  object \n",
      " 1   m2          18481 non-null  int64  \n",
      " 2   age         18480 non-null  float64\n",
      " 3   floor       18481 non-null  object \n",
      " 4   district    18481 non-null  object \n",
      " 5   neighbor    18481 non-null  object \n",
      " 6   total_room  18427 non-null  float64\n",
      "dtypes: float64(2), int64(1), object(4)\n",
      "memory usage: 1010.8+ KB\n"
     ]
    },
    {
     "data": {
      "text/plain": [
       "(18481, 7)"
      ]
     },
     "execution_count": 15,
     "metadata": {},
     "output_type": "execute_result"
    }
   ],
   "source": [
    "df.info()\n",
    "df.shape"
   ]
  },
  {
   "cell_type": "code",
   "execution_count": 17,
   "id": "f1a49010-0235-4e6b-8d23-4c49ac44c709",
   "metadata": {},
   "outputs": [
    {
     "data": {
      "text/html": [
       "<div>\n",
       "<style scoped>\n",
       "    .dataframe tbody tr th:only-of-type {\n",
       "        vertical-align: middle;\n",
       "    }\n",
       "\n",
       "    .dataframe tbody tr th {\n",
       "        vertical-align: top;\n",
       "    }\n",
       "\n",
       "    .dataframe thead th {\n",
       "        text-align: right;\n",
       "    }\n",
       "</style>\n",
       "<table border=\"1\" class=\"dataframe\">\n",
       "  <thead>\n",
       "    <tr style=\"text-align: right;\">\n",
       "      <th></th>\n",
       "      <th>count</th>\n",
       "      <th>mean</th>\n",
       "      <th>std</th>\n",
       "      <th>min</th>\n",
       "      <th>25%</th>\n",
       "      <th>50%</th>\n",
       "      <th>75%</th>\n",
       "      <th>max</th>\n",
       "    </tr>\n",
       "  </thead>\n",
       "  <tbody>\n",
       "    <tr>\n",
       "      <th>m2</th>\n",
       "      <td>18481.0</td>\n",
       "      <td>123.599751</td>\n",
       "      <td>48.560078</td>\n",
       "      <td>50.0</td>\n",
       "      <td>90.0</td>\n",
       "      <td>110.0</td>\n",
       "      <td>145.0</td>\n",
       "      <td>350.0</td>\n",
       "    </tr>\n",
       "    <tr>\n",
       "      <th>age</th>\n",
       "      <td>18480.0</td>\n",
       "      <td>13.184037</td>\n",
       "      <td>14.483101</td>\n",
       "      <td>0.0</td>\n",
       "      <td>1.0</td>\n",
       "      <td>8.0</td>\n",
       "      <td>25.0</td>\n",
       "      <td>340.0</td>\n",
       "    </tr>\n",
       "    <tr>\n",
       "      <th>total_room</th>\n",
       "      <td>18427.0</td>\n",
       "      <td>3.650024</td>\n",
       "      <td>1.860225</td>\n",
       "      <td>2.0</td>\n",
       "      <td>3.0</td>\n",
       "      <td>3.0</td>\n",
       "      <td>4.0</td>\n",
       "      <td>165.0</td>\n",
       "    </tr>\n",
       "  </tbody>\n",
       "</table>\n",
       "</div>"
      ],
      "text/plain": [
       "              count        mean        std   min   25%    50%    75%    max\n",
       "m2          18481.0  123.599751  48.560078  50.0  90.0  110.0  145.0  350.0\n",
       "age         18480.0   13.184037  14.483101   0.0   1.0    8.0   25.0  340.0\n",
       "total_room  18427.0    3.650024   1.860225   2.0   3.0    3.0    4.0  165.0"
      ]
     },
     "execution_count": 17,
     "metadata": {},
     "output_type": "execute_result"
    }
   ],
   "source": [
    "df.describe().T"
   ]
  },
  {
   "cell_type": "markdown",
   "id": "971709af-a06a-4841-a57c-b9e4122a8085",
   "metadata": {},
   "source": [
    "### NA Değer Kontrolü"
   ]
  },
  {
   "cell_type": "code",
   "execution_count": 20,
   "id": "ab0b3e43-9fe0-4580-9830-ffd7315f49ce",
   "metadata": {},
   "outputs": [
    {
     "data": {
      "text/plain": [
       "total_room    54\n",
       "age            1\n",
       "price          0\n",
       "m2             0\n",
       "floor          0\n",
       "district       0\n",
       "neighbor       0\n",
       "dtype: int64"
      ]
     },
     "execution_count": 20,
     "metadata": {},
     "output_type": "execute_result"
    }
   ],
   "source": [
    "df.isna().sum().sort_values(ascending=False)"
   ]
  },
  {
   "cell_type": "markdown",
   "id": "2e3dea40-3a40-4c11-b0b0-05084cfe18ae",
   "metadata": {},
   "source": [
    "### Kopya Veriler\n",
    "\n",
    "Web Scrapping Kaynaklı\n",
    "\n",
    "Kopya (tamamen aynı olan) verilerin sayısı: 1586\n",
    "\n",
    "Yaklaşık %8.6'sı tekrar eden veri."
   ]
  },
  {
   "cell_type": "code",
   "execution_count": 23,
   "id": "bbef1fe5-4a55-44c4-96e8-6f4838519d8d",
   "metadata": {},
   "outputs": [
    {
     "data": {
      "text/plain": [
       "np.int64(1563)"
      ]
     },
     "execution_count": 23,
     "metadata": {},
     "output_type": "execute_result"
    }
   ],
   "source": [
    "df.duplicated().sum()"
   ]
  },
  {
   "cell_type": "code",
   "execution_count": 25,
   "id": "7b186c61-56d0-44c5-80b0-8919bfe8fa26",
   "metadata": {},
   "outputs": [
    {
     "data": {
      "text/plain": [
       "(16918, 7)"
      ]
     },
     "execution_count": 25,
     "metadata": {},
     "output_type": "execute_result"
    }
   ],
   "source": [
    "df = df.drop_duplicates()\n",
    "df.shape"
   ]
  },
  {
   "cell_type": "markdown",
   "id": "ff30130c-14bd-4a8b-8f2a-3317363ce39e",
   "metadata": {},
   "source": [
    "\n",
    "\n",
    "### 1. \"price\""
   ]
  },
  {
   "cell_type": "code",
   "execution_count": 28,
   "id": "c0b1cd46-de17-48dd-acaa-ee97a45c06be",
   "metadata": {},
   "outputs": [
    {
     "name": "stdout",
     "output_type": "stream",
     "text": [
      "'2229999\\n                  TL'\n"
     ]
    }
   ],
   "source": [
    "print(repr(df[\"price\"].iloc[0])) #Hücrenin tam çıktısı"
   ]
  },
  {
   "cell_type": "code",
   "execution_count": 30,
   "id": "e8e9b1bf-b2a7-463a-8c33-f73afeda14db",
   "metadata": {},
   "outputs": [
    {
     "data": {
      "text/html": [
       "<div>\n",
       "<style scoped>\n",
       "    .dataframe tbody tr th:only-of-type {\n",
       "        vertical-align: middle;\n",
       "    }\n",
       "\n",
       "    .dataframe tbody tr th {\n",
       "        vertical-align: top;\n",
       "    }\n",
       "\n",
       "    .dataframe thead th {\n",
       "        text-align: right;\n",
       "    }\n",
       "</style>\n",
       "<table border=\"1\" class=\"dataframe\">\n",
       "  <thead>\n",
       "    <tr style=\"text-align: right;\">\n",
       "      <th></th>\n",
       "      <th>price</th>\n",
       "      <th>m2</th>\n",
       "      <th>age</th>\n",
       "      <th>floor</th>\n",
       "      <th>district</th>\n",
       "      <th>neighbor</th>\n",
       "      <th>total_room</th>\n",
       "    </tr>\n",
       "  </thead>\n",
       "  <tbody>\n",
       "    <tr>\n",
       "      <th>0</th>\n",
       "      <td>2229999</td>\n",
       "      <td>110</td>\n",
       "      <td>0.0</td>\n",
       "      <td>1</td>\n",
       "      <td>Beylikdüzü</td>\n",
       "      <td>Marmara Mah.</td>\n",
       "      <td>3.0</td>\n",
       "    </tr>\n",
       "    <tr>\n",
       "      <th>1</th>\n",
       "      <td>2650000</td>\n",
       "      <td>90</td>\n",
       "      <td>0.0</td>\n",
       "      <td>4</td>\n",
       "      <td>Esenyurt</td>\n",
       "      <td>Güzelyurt Mah.</td>\n",
       "      <td>2.0</td>\n",
       "    </tr>\n",
       "    <tr>\n",
       "      <th>2</th>\n",
       "      <td>3449999</td>\n",
       "      <td>130</td>\n",
       "      <td>0.0</td>\n",
       "      <td>2</td>\n",
       "      <td>Beylikdüzü</td>\n",
       "      <td>Adnan Kahveci Mah.</td>\n",
       "      <td>3.0</td>\n",
       "    </tr>\n",
       "    <tr>\n",
       "      <th>3</th>\n",
       "      <td>5475000</td>\n",
       "      <td>125</td>\n",
       "      <td>21.0</td>\n",
       "      <td>4</td>\n",
       "      <td>Pendik</td>\n",
       "      <td>Harmandere Mah.</td>\n",
       "      <td>3.0</td>\n",
       "    </tr>\n",
       "    <tr>\n",
       "      <th>4</th>\n",
       "      <td>3450980</td>\n",
       "      <td>110</td>\n",
       "      <td>0.0</td>\n",
       "      <td>1</td>\n",
       "      <td>Beylikdüzü</td>\n",
       "      <td>Adnan Kahveci Mah.</td>\n",
       "      <td>2.0</td>\n",
       "    </tr>\n",
       "  </tbody>\n",
       "</table>\n",
       "</div>"
      ],
      "text/plain": [
       "     price   m2   age floor      district             neighbor  total_room\n",
       "0  2229999  110   0.0     1   Beylikdüzü          Marmara Mah.         3.0\n",
       "1  2650000   90   0.0     4     Esenyurt        Güzelyurt Mah.         2.0\n",
       "2  3449999  130   0.0     2   Beylikdüzü    Adnan Kahveci Mah.         3.0\n",
       "3  5475000  125  21.0     4       Pendik       Harmandere Mah.         3.0\n",
       "4  3450980  110   0.0     1   Beylikdüzü    Adnan Kahveci Mah.         2.0"
      ]
     },
     "execution_count": 30,
     "metadata": {},
     "output_type": "execute_result"
    }
   ],
   "source": [
    "df[\"price\"] = df[\"price\"].str.replace(r\"\\n                  TL\", \"\", regex=True)\n",
    "df.head(5)"
   ]
  },
  {
   "cell_type": "code",
   "execution_count": 32,
   "id": "75446be5-63a1-416e-b8f8-20d7f2b529f2",
   "metadata": {},
   "outputs": [
    {
     "name": "stdout",
     "output_type": "stream",
     "text": [
      "object\n"
     ]
    },
    {
     "data": {
      "text/plain": [
       "np.int64(0)"
      ]
     },
     "execution_count": 32,
     "metadata": {},
     "output_type": "execute_result"
    }
   ],
   "source": [
    "print(df[\"price\"].dtype)\n",
    "df[\"price\"].isna().sum()"
   ]
  },
  {
   "cell_type": "code",
   "execution_count": 34,
   "id": "975037eb-1adb-4147-b213-9904804c1232",
   "metadata": {},
   "outputs": [
    {
     "name": "stdout",
     "output_type": "stream",
     "text": [
      "int64\n"
     ]
    }
   ],
   "source": [
    "df[\"price\"] = df[\"price\"].astype(int)\n",
    "print(df[\"price\"].dtype)"
   ]
  },
  {
   "cell_type": "markdown",
   "id": "8b638242-55fc-4c0e-956a-db915f70ea09",
   "metadata": {},
   "source": [
    "**\"price\" kolonu tamamlandı.**\n",
    "\n",
    "### m2\n"
   ]
  },
  {
   "cell_type": "code",
   "execution_count": 37,
   "id": "b10321c5-edd2-41e2-9369-2b185a9b8d54",
   "metadata": {},
   "outputs": [
    {
     "name": "stdout",
     "output_type": "stream",
     "text": [
      "int64\n"
     ]
    },
    {
     "data": {
      "text/plain": [
       "np.int64(0)"
      ]
     },
     "execution_count": 37,
     "metadata": {},
     "output_type": "execute_result"
    }
   ],
   "source": [
    "print(df[\"m2\"].dtype)\n",
    "df[\"m2\"].isna().sum()"
   ]
  },
  {
   "cell_type": "markdown",
   "id": "79b2982f-19da-47cf-a501-bf66711bc80b",
   "metadata": {},
   "source": [
    "##### m2 için bir sorun gözükmüyor"
   ]
  },
  {
   "cell_type": "markdown",
   "id": "ab726741-85c5-4182-b6e2-cfd7d6630524",
   "metadata": {},
   "source": [
    "### \"age\""
   ]
  },
  {
   "cell_type": "code",
   "execution_count": 41,
   "id": "b232d27d-22bd-4811-9d3c-5b07243915a3",
   "metadata": {},
   "outputs": [
    {
     "name": "stdout",
     "output_type": "stream",
     "text": [
      "float64\n"
     ]
    },
    {
     "data": {
      "text/plain": [
       "np.int64(1)"
      ]
     },
     "execution_count": 41,
     "metadata": {},
     "output_type": "execute_result"
    }
   ],
   "source": [
    "print(df[\"age\"].dtype)\n",
    "df[\"age\"].isna().sum()"
   ]
  },
  {
   "cell_type": "code",
   "execution_count": 43,
   "id": "731fc295-60f6-41d2-afb4-94f8bb7b7b54",
   "metadata": {},
   "outputs": [
    {
     "name": "stdout",
     "output_type": "stream",
     "text": [
      "int64\n"
     ]
    },
    {
     "data": {
      "text/plain": [
       "np.int64(0)"
      ]
     },
     "execution_count": 43,
     "metadata": {},
     "output_type": "execute_result"
    }
   ],
   "source": [
    "df.dropna(subset=[\"age\"], inplace=True)\n",
    "df[\"age\"] = df[\"age\"].astype(int)\n",
    "print(df[\"age\"].dtype)\n",
    "df[\"age\"].isna().sum()"
   ]
  },
  {
   "cell_type": "markdown",
   "id": "022649bf-c651-44b5-803b-feb141722fde",
   "metadata": {},
   "source": [
    "##### Bir sorun yok"
   ]
  },
  {
   "cell_type": "markdown",
   "id": "0507bf40-9cf7-4043-ab5a-e68a0100e4d9",
   "metadata": {},
   "source": [
    "### \"floor\""
   ]
  },
  {
   "cell_type": "code",
   "execution_count": 47,
   "id": "d8b41a11-b3f3-4d13-b392-42180b5821d2",
   "metadata": {},
   "outputs": [
    {
     "name": "stdout",
     "output_type": "stream",
     "text": [
      "object\n"
     ]
    },
    {
     "data": {
      "text/plain": [
       "np.int64(0)"
      ]
     },
     "execution_count": 47,
     "metadata": {},
     "output_type": "execute_result"
    }
   ],
   "source": [
    "print(df[\"floor\"].dtype)\n",
    "df[\"floor\"].isna().sum()"
   ]
  },
  {
   "cell_type": "code",
   "execution_count": 49,
   "id": "45ea9fc1-236a-45c4-b269-480c8adfabd6",
   "metadata": {},
   "outputs": [
    {
     "data": {
      "text/plain": [
       "array([1, 4, 2, 3, 'Ara Kat', 5, 8, 'Yüksek Giriş', 'Giriş Katı', 6,\n",
       "       'Bahçe Katı', 7, 10, 'Villa Katı', 'En Üst Kat', 13, 12,\n",
       "       'Yarı Bodrum', 15, 'Zemin', 'Çatı Katı', 11, 18, '21 ve üzeri', 9,\n",
       "       20, 'Teras Katı', 'Kot 1', 'Kot 2', 17, 14, 'Kot 3', 'Bodrum',\n",
       "       'Bodrum ve Zemin', 19, 16], dtype=object)"
      ]
     },
     "execution_count": 49,
     "metadata": {},
     "output_type": "execute_result"
    }
   ],
   "source": [
    "df[\"floor\"].unique()"
   ]
  },
  {
   "cell_type": "code",
   "execution_count": 51,
   "id": "7b52eedb-89fc-49e1-9e4c-6ddd99207a4d",
   "metadata": {},
   "outputs": [
    {
     "name": "stderr",
     "output_type": "stream",
     "text": [
      "C:\\Users\\ASUS\\AppData\\Local\\Temp\\ipykernel_16068\\2144047913.py:20: FutureWarning: Downcasting behavior in `replace` is deprecated and will be removed in a future version. To retain the old behavior, explicitly call `result.infer_objects(copy=False)`. To opt-in to the future behavior, set `pd.set_option('future.no_silent_downcasting', True)`\n",
      "  df[\"floor\"] = df[\"floor\"].replace(kat_haritasi)\n"
     ]
    },
    {
     "data": {
      "text/plain": [
       "np.int64(0)"
      ]
     },
     "execution_count": 51,
     "metadata": {},
     "output_type": "execute_result"
    }
   ],
   "source": [
    "kat_haritasi = {\n",
    "    \"Ara Kat\": 3,\n",
    "    \"Yüksek Giriş\": 0.5,\n",
    "    \"Giriş Katı\": 0,\n",
    "    \"Bahçe Katı\": 0,\n",
    "    \"Villa Katı\": 0,\n",
    "    \"En Üst Kat\": 12,\n",
    "    \"Yarı Bodrum\": -0.5,\n",
    "    \"Zemin\": 0,\n",
    "    \"Çatı Katı\": 12,\n",
    "    \"21 ve üzeri\": 24,\n",
    "    \"Teras Katı\": 9,\n",
    "    \"Kot 1\": -1,\n",
    "    \"Kot 2\": -2,\n",
    "    \"Kot 3\": -3,\n",
    "    \"Bodrum\": -1,\n",
    "    \"Bodrum ve Zemin\": -0.5\n",
    "}\n",
    "\n",
    "df[\"floor\"] = df[\"floor\"].replace(kat_haritasi)\n",
    "df[\"floor\"] = pd.to_numeric(df[\"floor\"], errors=\"coerce\") # Hatalı değerleri nan yapar\n",
    "\n",
    "df[\"floor\"].isna().sum()"
   ]
  },
  {
   "cell_type": "code",
   "execution_count": 53,
   "id": "9133927e-bef7-4810-8015-80898dfaab63",
   "metadata": {},
   "outputs": [
    {
     "name": "stdout",
     "output_type": "stream",
     "text": [
      "[ 1.   4.   2.   3.   5.   8.   0.5  0.   6.   7.  10.  12.  13.  -0.5\n",
      " 15.  11.  18.  24.   9.  20.  -1.  -2.  17.  14.  -3.  19.  16. ]\n",
      "float64\n"
     ]
    }
   ],
   "source": [
    "print(df[\"floor\"].unique())\n",
    "print(df[\"floor\"].dtype)"
   ]
  },
  {
   "cell_type": "markdown",
   "id": "4f4fa4ad-e517-4f6e-83d5-e4226c62bf85",
   "metadata": {},
   "source": [
    "### total_room"
   ]
  },
  {
   "cell_type": "code",
   "execution_count": 56,
   "id": "5b373d0c-66fe-4950-9b35-31409972f18f",
   "metadata": {},
   "outputs": [
    {
     "name": "stdout",
     "output_type": "stream",
     "text": [
      "float64\n"
     ]
    },
    {
     "data": {
      "text/plain": [
       "np.int64(48)"
      ]
     },
     "execution_count": 56,
     "metadata": {},
     "output_type": "execute_result"
    }
   ],
   "source": [
    "print(df[\"total_room\"].dtype)\n",
    "df[\"total_room\"].isna().sum()"
   ]
  },
  {
   "cell_type": "code",
   "execution_count": 58,
   "id": "d5bbdc99-89f5-4ff6-ad28-8074b8d398db",
   "metadata": {},
   "outputs": [
    {
     "data": {
      "text/html": [
       "<div>\n",
       "<style scoped>\n",
       "    .dataframe tbody tr th:only-of-type {\n",
       "        vertical-align: middle;\n",
       "    }\n",
       "\n",
       "    .dataframe tbody tr th {\n",
       "        vertical-align: top;\n",
       "    }\n",
       "\n",
       "    .dataframe thead th {\n",
       "        text-align: right;\n",
       "    }\n",
       "</style>\n",
       "<table border=\"1\" class=\"dataframe\">\n",
       "  <thead>\n",
       "    <tr style=\"text-align: right;\">\n",
       "      <th></th>\n",
       "      <th>price</th>\n",
       "      <th>m2</th>\n",
       "      <th>age</th>\n",
       "      <th>floor</th>\n",
       "      <th>district</th>\n",
       "      <th>neighbor</th>\n",
       "      <th>total_room</th>\n",
       "    </tr>\n",
       "  </thead>\n",
       "  <tbody>\n",
       "    <tr>\n",
       "      <th>296</th>\n",
       "      <td>1325000</td>\n",
       "      <td>55</td>\n",
       "      <td>13</td>\n",
       "      <td>3.0</td>\n",
       "      <td>Esenyurt</td>\n",
       "      <td>Zafer Mah.</td>\n",
       "      <td>NaN</td>\n",
       "    </tr>\n",
       "    <tr>\n",
       "      <th>390</th>\n",
       "      <td>3580000</td>\n",
       "      <td>95</td>\n",
       "      <td>12</td>\n",
       "      <td>3.0</td>\n",
       "      <td>Esenyurt</td>\n",
       "      <td>Turgut Özal Mah.</td>\n",
       "      <td>NaN</td>\n",
       "    </tr>\n",
       "    <tr>\n",
       "      <th>757</th>\n",
       "      <td>4499000</td>\n",
       "      <td>70</td>\n",
       "      <td>15</td>\n",
       "      <td>3.0</td>\n",
       "      <td>Kağıthane</td>\n",
       "      <td>Sultan Selim Mah.</td>\n",
       "      <td>NaN</td>\n",
       "    </tr>\n",
       "    <tr>\n",
       "      <th>1004</th>\n",
       "      <td>1990000</td>\n",
       "      <td>55</td>\n",
       "      <td>6</td>\n",
       "      <td>12.0</td>\n",
       "      <td>Esenyurt</td>\n",
       "      <td>Zafer Mah.</td>\n",
       "      <td>NaN</td>\n",
       "    </tr>\n",
       "    <tr>\n",
       "      <th>1309</th>\n",
       "      <td>4100000</td>\n",
       "      <td>70</td>\n",
       "      <td>13</td>\n",
       "      <td>3.0</td>\n",
       "      <td>Ataşehir</td>\n",
       "      <td>Esatpaşa Mah.</td>\n",
       "      <td>NaN</td>\n",
       "    </tr>\n",
       "  </tbody>\n",
       "</table>\n",
       "</div>"
      ],
      "text/plain": [
       "        price  m2  age  floor     district            neighbor  total_room\n",
       "296   1325000  55   13    3.0    Esenyurt           Zafer Mah.         NaN\n",
       "390   3580000  95   12    3.0    Esenyurt     Turgut Özal Mah.         NaN\n",
       "757   4499000  70   15    3.0   Kağıthane    Sultan Selim Mah.         NaN\n",
       "1004  1990000  55    6   12.0    Esenyurt           Zafer Mah.         NaN\n",
       "1309  4100000  70   13    3.0    Ataşehir        Esatpaşa Mah.         NaN"
      ]
     },
     "execution_count": 58,
     "metadata": {},
     "output_type": "execute_result"
    }
   ],
   "source": [
    "df[df[\"total_room\"].isna()].head()"
   ]
  },
  {
   "cell_type": "code",
   "execution_count": 60,
   "id": "8327d4e3-7ba5-4ba4-9c17-2831cd8b54d7",
   "metadata": {},
   "outputs": [
    {
     "data": {
      "text/plain": [
       "np.int64(0)"
      ]
     },
     "execution_count": 60,
     "metadata": {},
     "output_type": "execute_result"
    }
   ],
   "source": [
    "df[\"total_room\"] = df.groupby(\"neighbor\")[\"total_room\"].transform(\n",
    "    lambda x: x.fillna(x.mean()))\n",
    "df[\"total_room\"].isna().sum()"
   ]
  },
  {
   "cell_type": "code",
   "execution_count": 62,
   "id": "a29217c1-97d2-4512-8c19-39dda0711112",
   "metadata": {},
   "outputs": [
    {
     "name": "stdout",
     "output_type": "stream",
     "text": [
      "int64\n"
     ]
    }
   ],
   "source": [
    "df[\"total_room\"] = df[\"total_room\"].round().astype(int)\n",
    "print(df[\"total_room\"].dtype)"
   ]
  },
  {
   "cell_type": "markdown",
   "id": "fa26a437-f8fa-4ee9-8e7a-1697f063e46d",
   "metadata": {},
   "source": [
    "### neighbor ve district\n",
    "\n",
    "Encoding işleminden önce süreçte bir sorun çıkmaması için:"
   ]
  },
  {
   "cell_type": "code",
   "execution_count": 65,
   "id": "e6c51916-b92c-437e-b7f9-8a6f8523d925",
   "metadata": {},
   "outputs": [],
   "source": [
    "df[\"neighbor\"] = df[\"neighbor\"].str.strip()\n",
    "df[\"district\"] = df[\"district\"].str.strip()"
   ]
  },
  {
   "cell_type": "markdown",
   "id": "5c02c8a0-a470-4694-9f3a-5025061932e6",
   "metadata": {},
   "source": [
    "# Sonuç\n",
    "\n",
    "Veriler tipleri kabaca ML sistemine hazır oldu\n",
    "\n",
    "district ve neighbor kolonları için kategorik verilerden sayısal değerlere encoding işlmi yapılacak\n",
    "\n",
    "güncel veriyi çıkarmak için:"
   ]
  },
  {
   "cell_type": "code",
   "execution_count": 68,
   "id": "fd74045a-333b-4144-9c2f-d756f478548d",
   "metadata": {},
   "outputs": [
    {
     "name": "stdout",
     "output_type": "stream",
     "text": [
      "clean_data.csv kaydedildi!\n"
     ]
    }
   ],
   "source": [
    "df.to_csv(\"clean_data.csv\", index=False)\n",
    "print(\"clean_data.csv kaydedildi!\")"
   ]
  },
  {
   "cell_type": "code",
   "execution_count": null,
   "id": "bf0eaae8-17dc-473e-880c-13e947e14dd2",
   "metadata": {},
   "outputs": [],
   "source": []
  }
 ],
 "metadata": {
  "kernelspec": {
   "display_name": "Python (temiz_ml)",
   "language": "python",
   "name": "temiz_ml"
  },
  "language_info": {
   "codemirror_mode": {
    "name": "ipython",
    "version": 3
   },
   "file_extension": ".py",
   "mimetype": "text/x-python",
   "name": "python",
   "nbconvert_exporter": "python",
   "pygments_lexer": "ipython3",
   "version": "3.9.21"
  }
 },
 "nbformat": 4,
 "nbformat_minor": 5
}
