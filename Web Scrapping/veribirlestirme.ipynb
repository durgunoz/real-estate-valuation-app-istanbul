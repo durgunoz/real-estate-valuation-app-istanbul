{
 "cells": [
  {
   "cell_type": "markdown",
   "id": "ece4d8ac-3a15-41a1-b6b9-5063a7fdc0c6",
   "metadata": {},
   "source": [
    "# Veri Birleştirme \n",
    "\n",
    "Verileri Data Frame olarak tanımlayıp \".to_excel\" komutu ile kaydettim\n",
    "\n"
   ]
  },
  {
   "cell_type": "code",
   "execution_count": 9,
   "id": "1e06003f-42ae-4b21-9d77-52a4314b21d8",
   "metadata": {},
   "outputs": [
    {
     "name": "stdout",
     "output_type": "stream",
     "text": [
      "Başarıyla birleştirildi dosya adı: birlesik_dosya_(0-1000).xlsx\n"
     ]
    }
   ],
   "source": [
    "import pandas as pd\n",
    "\n",
    "df1 = pd.read_excel(\"test_1_70.xlsx\")\n",
    "df2 = pd.read_excel(\"test_71_100.xlsx\")\n",
    "df3 = pd.read_excel(\"test_101_200.xlsx\")\n",
    "df4 = pd.read_excel(\"test_201_300.xlsx\")\n",
    "df5 = pd.read_excel(\"test_301_400.xlsx\")\n",
    "df6 = pd.read_excel(\"test_401_500.xlsx\")\n",
    "df7 = pd.read_excel(\"test_501_600.xlsx\")\n",
    "df8 = pd.read_excel(\"test_601_700.xlsx\")\n",
    "df9 = pd.read_excel(\"test_701_800.xlsx\")\n",
    "df10 = pd.read_excel(\"test_801_900.xlsx\")\n",
    "df10 = pd.read_excel(\"test_901_1000.xlsx\")\n",
    "\n",
    "birlesik_df = pd.concat([df1, df2, df3, df4, df5, df6, df7, df8, df9, df10], ignore_index=True)\n",
    "\n",
    "birlesik_df.to_excel(\"birlesik_dosya_(0-1000).xlsx\", index=False)\n",
    "\n",
    "print(\"Başarıyla birleştirildi dosya adı: birlesik_dosya_(0-1000).xlsx\")"
   ]
  },
  {
   "cell_type": "code",
   "execution_count": null,
   "id": "bf73051d-374b-4e66-b62d-3d9f013bff89",
   "metadata": {},
   "outputs": [],
   "source": []
  }
 ],
 "metadata": {
  "kernelspec": {
   "display_name": "Python 3 (ipykernel)",
   "language": "python",
   "name": "python3"
  },
  "language_info": {
   "codemirror_mode": {
    "name": "ipython",
    "version": 3
   },
   "file_extension": ".py",
   "mimetype": "text/x-python",
   "name": "python",
   "nbconvert_exporter": "python",
   "pygments_lexer": "ipython3",
   "version": "3.12.7"
  }
 },
 "nbformat": 4,
 "nbformat_minor": 5
}
